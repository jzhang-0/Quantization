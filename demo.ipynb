{
 "cells": [
  {
   "cell_type": "code",
   "execution_count": 2,
   "source": [
    "import nanopq\n",
    "import numpy as np\n",
    "\n",
    "N, Nt, D = 10000, 2000, 128\n",
    "X = np.random.random((N, D)).astype(np.float32)  # 10,000 128-dim vectors to be indexed\n",
    "Xt = np.random.random((Nt, D)).astype(np.float32)  # 2,000 128-dim vectors for training\n",
    "query = np.random.random((D,)).astype(np.float32)  # a 128-dim query vector\n",
    "\n",
    "# Instantiate with M=8 sub-spaces\n",
    "pq = nanopq.PQ(M=8)\n",
    "\n",
    "# Train codewords\n",
    "pq.fit(Xt)\n",
    "\n",
    "# Encode to PQ-codes\n",
    "X_code = pq.encode(X)  # (10000, 8) with dtype=np.uint8\n",
    "\n",
    "# Results: create a distance table online, and compute Asymmetric Distance to each PQ-code \n",
    "dists = pq.dtable(query).adist(X_code)  # (10000, ) "
   ],
   "outputs": [
    {
     "output_type": "stream",
     "name": "stdout",
     "text": [
      "M: 8, Ks: 256, code_dtype: <class 'numpy.uint8'>\n",
      "iter: 20, seed: 123\n",
      "Training the subspace: 0 / 8\n",
      "Training the subspace: 1 / 8\n",
      "Training the subspace: 2 / 8\n",
      "Training the subspace: 3 / 8\n",
      "Training the subspace: 4 / 8\n",
      "Training the subspace: 5 / 8\n",
      "Training the subspace: 6 / 8\n",
      "Training the subspace: 7 / 8\n",
      "Encoding the subspace: 0 / 8\n",
      "Encoding the subspace: 1 / 8\n",
      "Encoding the subspace: 2 / 8\n",
      "Encoding the subspace: 3 / 8\n",
      "Encoding the subspace: 4 / 8\n",
      "Encoding the subspace: 5 / 8\n",
      "Encoding the subspace: 6 / 8\n",
      "Encoding the subspace: 7 / 8\n"
     ]
    }
   ],
   "metadata": {}
  },
  {
   "cell_type": "code",
   "execution_count": 8,
   "source": [
    "from recall import Recall_PQ\n",
    "rpq = Recall_PQ(M=8,Ks=256,D=128)\n"
   ],
   "outputs": [],
   "metadata": {}
  },
  {
   "cell_type": "code",
   "execution_count": 12,
   "source": [
    "!pwd"
   ],
   "outputs": [
    {
     "output_type": "stream",
     "name": "stdout",
     "text": [
      "/amax/home/zhangjin/recall\n"
     ]
    }
   ],
   "metadata": {}
  },
  {
   "cell_type": "code",
   "execution_count": 4,
   "source": [
    "queries = np.random.random((10,D)).astype(np.float32)  # a 128-dim query vector"
   ],
   "outputs": [],
   "metadata": {}
  },
  {
   "cell_type": "code",
   "execution_count": 5,
   "source": [
    "neighbors = rpq.neighbors(codebook=pq.codewords, queries=queries, codes = X_code, option = \"l2_distance\", topk=20)"
   ],
   "outputs": [],
   "metadata": {}
  },
  {
   "cell_type": "code",
   "execution_count": 6,
   "source": [
    "neighbors.shape"
   ],
   "outputs": [
    {
     "output_type": "execute_result",
     "data": {
      "text/plain": [
       "(10, 20)"
      ]
     },
     "metadata": {},
     "execution_count": 6
    }
   ],
   "metadata": {}
  },
  {
   "cell_type": "code",
   "execution_count": 9,
   "source": [
    "ground_truth = rpq.brute_force_search(X,queries)"
   ],
   "outputs": [
    {
     "output_type": "error",
     "ename": "ValueError",
     "evalue": "matmul: Input operand 1 has a mismatch in its core dimension 0, with gufunc signature (n?,k),(k,m?)->(n?,m?) (size 10 is different from 128)",
     "traceback": [
      "\u001b[0;31m---------------------------------------------------------------------------\u001b[0m",
      "\u001b[0;31mValueError\u001b[0m                                Traceback (most recent call last)",
      "\u001b[0;32m<ipython-input-9-e05c80dc1452>\u001b[0m in \u001b[0;36m<module>\u001b[0;34m\u001b[0m\n\u001b[0;32m----> 1\u001b[0;31m \u001b[0mground_truth\u001b[0m \u001b[0;34m=\u001b[0m \u001b[0mrpq\u001b[0m\u001b[0;34m.\u001b[0m\u001b[0mbrute_force_search\u001b[0m\u001b[0;34m(\u001b[0m\u001b[0mX\u001b[0m\u001b[0;34m,\u001b[0m\u001b[0mqueries\u001b[0m\u001b[0;34m)\u001b[0m\u001b[0;34m\u001b[0m\u001b[0;34m\u001b[0m\u001b[0m\n\u001b[0m",
      "\u001b[0;32m~/recall/recall.py\u001b[0m in \u001b[0;36mbrute_force_search\u001b[0;34m(self, target_set, test_set)\u001b[0m\n\u001b[1;32m     13\u001b[0m \u001b[0;34m\u001b[0m\u001b[0m\n\u001b[1;32m     14\u001b[0m     \u001b[0;32mdef\u001b[0m \u001b[0mbrute_force_search\u001b[0m\u001b[0;34m(\u001b[0m\u001b[0mself\u001b[0m\u001b[0;34m,\u001b[0m \u001b[0mtarget_set\u001b[0m\u001b[0;34m,\u001b[0m \u001b[0mtest_set\u001b[0m\u001b[0;34m)\u001b[0m\u001b[0;34m:\u001b[0m\u001b[0;34m\u001b[0m\u001b[0;34m\u001b[0m\u001b[0m\n\u001b[0;32m---> 15\u001b[0;31m         \u001b[0mdistance\u001b[0m \u001b[0;34m=\u001b[0m \u001b[0mtarget_set\u001b[0m \u001b[0;34m@\u001b[0m \u001b[0mtest_set\u001b[0m\u001b[0;34m.\u001b[0m\u001b[0mT\u001b[0m\u001b[0;34m\u001b[0m\u001b[0;34m\u001b[0m\u001b[0m\n\u001b[0m\u001b[1;32m     16\u001b[0m         \u001b[0;32mreturn\u001b[0m \u001b[0mnp\u001b[0m\u001b[0;34m.\u001b[0m\u001b[0margmax\u001b[0m\u001b[0;34m(\u001b[0m\u001b[0mdistance\u001b[0m\u001b[0;34m,\u001b[0m \u001b[0maxis\u001b[0m\u001b[0;34m=\u001b[0m\u001b[0;36m0\u001b[0m\u001b[0;34m)\u001b[0m\u001b[0;34m\u001b[0m\u001b[0;34m\u001b[0m\u001b[0m\n\u001b[1;32m     17\u001b[0m \u001b[0;34m\u001b[0m\u001b[0m\n",
      "\u001b[0;31mValueError\u001b[0m: matmul: Input operand 1 has a mismatch in its core dimension 0, with gufunc signature (n?,k),(k,m?)->(n?,m?) (size 10 is different from 128)"
     ]
    }
   ],
   "metadata": {}
  },
  {
   "cell_type": "code",
   "execution_count": 16,
   "source": [
    "rpq.compute_recall #(neighbors,ground_truth)"
   ],
   "outputs": [
    {
     "output_type": "execute_result",
     "data": {
      "text/plain": [
       "<bound method Recall.compute_recall of <recall.Recall_PQ object at 0x7f7007f8d6d0>>"
      ]
     },
     "metadata": {},
     "execution_count": 16
    }
   ],
   "metadata": {}
  },
  {
   "cell_type": "code",
   "execution_count": null,
   "source": [],
   "outputs": [],
   "metadata": {}
  }
 ],
 "metadata": {
  "orig_nbformat": 4,
  "language_info": {
   "name": "python",
   "version": "3.8.5",
   "mimetype": "text/x-python",
   "codemirror_mode": {
    "name": "ipython",
    "version": 3
   },
   "pygments_lexer": "ipython3",
   "nbconvert_exporter": "python",
   "file_extension": ".py"
  },
  "kernelspec": {
   "name": "python3",
   "display_name": "Python 3.8.5 64-bit ('base': conda)"
  },
  "interpreter": {
   "hash": "e7eb97b28c3dfeecb20079ce6981f86c321ad8b50ec45dad4ffc24f99f393f81"
  }
 },
 "nbformat": 4,
 "nbformat_minor": 2
}