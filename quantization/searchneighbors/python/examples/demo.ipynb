{
 "cells": [
  {
   "cell_type": "markdown",
   "metadata": {},
   "source": [
    "# AQ Recall"
   ]
  },
  {
   "cell_type": "markdown",
   "metadata": {},
   "source": [
    "The following is not additive quantization, only the codebooks and codes have the same structure as additive quantization"
   ]
  },
  {
   "cell_type": "code",
   "execution_count": 1,
   "metadata": {},
   "outputs": [
    {
     "name": "stderr",
     "output_type": "stream",
     "text": [
      "/amax/home/zhangjin/miniconda3/lib/python3.8/site-packages/scipy/cluster/vq.py:575: UserWarning: One of the clusters is empty. Re-run kmeans with a different initialization.\n",
      "  warnings.warn(\"One of the clusters is empty. \"\n"
     ]
    },
    {
     "name": "stdout",
     "output_type": "stream",
     "text": [
      "(2048, 128)\n",
      "(10000, 8)\n"
     ]
    }
   ],
   "source": [
    "import numpy as np\n",
    "from scipy.cluster.vq import kmeans2\n",
    "\n",
    "n, nq, D = 10000, 2000, 128\n",
    "np.random.seed(15)\n",
    "X = np.random.randn(n, D).astype(np.float32)  \n",
    "queries = np.random.randn(nq,D).astype(np.float32)\n",
    "M,K = 8,256\n",
    "\n",
    "centroid, code = kmeans2(X, K, minit='points')\n",
    "centroid.shape  # shape = (256,128)\n",
    "\n",
    "codebooks = centroid\n",
    "codes = code \n",
    "RX = X\n",
    "for i in range(1,M):\n",
    "    RX = RX - centroid[code]\n",
    "\n",
    "    centroid , code = kmeans2(RX, K)\n",
    "\n",
    "    codebooks = np.r_[codebooks,centroid]\n",
    "    codes = np.c_[codes,code]\n",
    "print(codebooks.shape)\n",
    "print(codes.shape)"
   ]
  },
  {
   "cell_type": "markdown",
   "metadata": {},
   "source": [
    "## compute recall"
   ]
  },
  {
   "cell_type": "code",
   "execution_count": 2,
   "metadata": {},
   "outputs": [],
   "source": [
    "from evaluationRecall import SearchNeighbors_AQ, recall_atN\n",
    "\n",
    "# M (int): The number of codebooks  \n",
    "# K (int): The number of codewords for each codebook  \n",
    "# D (int): The dim of each vector  \n",
    "# aq_codebooks (np.ndarray): shape=(M*K, D) with dtype=np.float32.  \n",
    "#     aq_codebooks[0:K,:] represents the K codewords in the first codebook  \n",
    "#     aq_codebooks[(m-1)*K:mK,:] represents the K codewords in the m-th codebook  \n",
    "# aq_codes (np.ndarray): AQ codes with shape=(n, M) and dtype=np.int, where n is the number of encoded datapoints.  \n",
    "    # aq_codes[i,j] is in {0,1,...,K-1} for all i,j\n",
    "# metric (str): dot_product or l2_distance \n",
    "\n",
    "raq = SearchNeighbors_AQ(M = M, K = K, D = D, aq_codebooks = codebooks, aq_codes = codes, metric=\"dot_product\")\n",
    "\n",
    "# This will get the true nearest neighbor of the queries by brute force search.\n",
    "ground_truth = raq.brute_force_search(X,queries,metric=\"dot_product\")"
   ]
  },
  {
   "cell_type": "code",
   "execution_count": 3,
   "metadata": {},
   "outputs": [
    {
     "name": "stdout",
     "output_type": "stream",
     "text": [
      "par_neighbors took 3.4909019470214844 seconds\n",
      "recall 1@1 = 0.09\n",
      "recall 1@2 = 0.136\n",
      "recall 1@4 = 0.2045\n",
      "recall 1@8 = 0.2885\n",
      "recall 1@10 = 0.318\n",
      "recall 1@16 = 0.385\n",
      "recall 1@20 = 0.4235\n",
      "recall 1@32 = 0.5185\n",
      "recall 1@64 = 0.662\n",
      "recall 1@100 = 0.7315\n",
      "recall 1@128 = 0.7735\n",
      "recall 1@256 = 0.8785\n",
      "recall 1@512 = 0.949\n",
      "\n",
      "\n",
      "N=[1, 2, 4, 8, 10, 16, 20, 32, 64, 100, 128, 256, 512]\n",
      "recall1@N:[0.09, 0.136, 0.2045, 0.2885, 0.318, 0.385, 0.4235, 0.5185, 0.662, 0.7315, 0.7735, 0.8785, 0.949]\n"
     ]
    }
   ],
   "source": [
    "# This will get topk neighbors(raq.neighbors_matrix) of queries and compute the recall\n",
    "neighbors_matrix = raq.par_neighbors(queries=queries, topk=512, njobs=4)\n",
    "recall_atN(neighbors_matrix,ground_truth)"
   ]
  }
 ],
 "metadata": {
  "interpreter": {
   "hash": "25fc654bf82564ad992ec16430a511268a28637c771f42b3adb4e87730eb4a5c"
  },
  "kernelspec": {
   "display_name": "Python 3.8.5 64-bit ('base': conda)",
   "name": "python3"
  },
  "language_info": {
   "codemirror_mode": {
    "name": "ipython",
    "version": 3
   },
   "file_extension": ".py",
   "mimetype": "text/x-python",
   "name": "python",
   "nbconvert_exporter": "python",
   "pygments_lexer": "ipython3",
   "version": "3.8.5"
  },
  "orig_nbformat": 4
 },
 "nbformat": 4,
 "nbformat_minor": 2
}
