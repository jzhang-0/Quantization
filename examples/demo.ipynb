{
 "cells": [
  {
   "cell_type": "markdown",
   "source": [
    "# PQ Recall"
   ],
   "metadata": {}
  },
  {
   "cell_type": "markdown",
   "source": [
    "## product quantization"
   ],
   "metadata": {}
  },
  {
   "cell_type": "code",
   "execution_count": null,
   "source": [
    "import nanopq\n",
    "import numpy as np\n",
    "\n",
    "n1,n2, D = 10000, 2000, 128\n",
    "np.random.seed(15)\n",
    "X = np.random.randn(n1, D).astype(np.float32)  \n",
    "queries = np.random.randn(n2,D).astype(np.float32)  \n",
    "\n",
    "# Instantiate with M=8 sub-spaces,Ks=256 codewords in each sub-space\n",
    "M,Ks=8,256\n",
    "pq = nanopq.PQ(M=M,Ks=Ks)\n",
    "\n",
    "# Train codewords\n",
    "pq.fit(X)\n",
    "\n",
    "# Encode to PQ-codes\n",
    "X_code = pq.encode(X)  # (10000, 8) "
   ],
   "outputs": [],
   "metadata": {}
  },
  {
   "cell_type": "markdown",
   "source": [
    "### compute recall"
   ],
   "metadata": {}
  },
  {
   "cell_type": "code",
   "execution_count": 2,
   "source": [
    "from evaluationRecall import Recall_PQ\n",
    "rpq = Recall_PQ(M=M, Ks=Ks, D=D, pq_codebook = pq.codewords, pq_codes = X_code, metric=\"l2_distance\")\n",
    "\n",
    "ground_truth = rpq.brute_force_search(X, queries, metric = \"l2_distance\") "
   ],
   "outputs": [],
   "metadata": {}
  },
  {
   "cell_type": "code",
   "execution_count": 3,
   "source": [
    "rpq.pq_recall(queries, 100, ground_truth)"
   ],
   "outputs": [
    {
     "output_type": "stream",
     "name": "stdout",
     "text": [
      "recall 1@100 = 0.528\n"
     ]
    }
   ],
   "metadata": {}
  },
  {
   "cell_type": "markdown",
   "source": [
    "# AQ Recall"
   ],
   "metadata": {}
  },
  {
   "cell_type": "markdown",
   "source": [
    "The following is not additive quantization, only the codebooks and codes have the same structure as additive quantization"
   ],
   "metadata": {}
  },
  {
   "cell_type": "code",
   "execution_count": 7,
   "source": [
    "import numpy as np\n",
    "from scipy.cluster.vq import kmeans2\n",
    "\n",
    "n, nq, D = 10000, 2000, 128\n",
    "np.random.seed(15)\n",
    "X = np.random.randn(n, D).astype(np.float32)  \n",
    "queries = np.random.randn(nq,D).astype(np.float32)\n",
    "M,K = 8,256\n",
    "\n",
    "centroid, code = kmeans2(X, K, minit='points')\n",
    "centroid.shape  # shape = (256,128)\n",
    "\n",
    "codebooks = centroid\n",
    "codes = code \n",
    "RX = X\n",
    "for i in range(1,M):\n",
    "    RX = RX - centroid[code]\n",
    "\n",
    "    centroid , code = kmeans2(RX, K)\n",
    "\n",
    "    codebooks = np.r_[codebooks,centroid]\n",
    "    codes = np.c_[codes,code]\n",
    "print(codebooks.shape)\n",
    "print(codes.shape)"
   ],
   "outputs": [
    {
     "output_type": "stream",
     "name": "stdout",
     "text": [
      "(2048, 128)\n",
      "(10000, 8)\n"
     ]
    }
   ],
   "metadata": {}
  },
  {
   "cell_type": "markdown",
   "source": [
    "## compute recall"
   ],
   "metadata": {}
  },
  {
   "cell_type": "code",
   "execution_count": 8,
   "source": [
    "from evaluationRecall import Recall_AQ\n",
    "raq = Recall_AQ(M, K, D, codebooks,codes,metric=\"l2_distance\")\n",
    "ground_truth = raq.brute_force_search(X,queries,metric=\"l2_distance\")"
   ],
   "outputs": [],
   "metadata": {}
  },
  {
   "cell_type": "code",
   "execution_count": 9,
   "source": [
    "raq.aq_recall(queries, 100, ground_truth)"
   ],
   "outputs": [
    {
     "output_type": "stream",
     "name": "stdout",
     "text": [
      "recall 1@100 = 0.6285\n"
     ]
    }
   ],
   "metadata": {}
  }
 ],
 "metadata": {
  "orig_nbformat": 4,
  "language_info": {
   "name": "python",
   "version": "3.8.5",
   "mimetype": "text/x-python",
   "codemirror_mode": {
    "name": "ipython",
    "version": 3
   },
   "pygments_lexer": "ipython3",
   "nbconvert_exporter": "python",
   "file_extension": ".py"
  },
  "kernelspec": {
   "name": "python3",
   "display_name": "Python 3.8.5 64-bit ('base': conda)"
  },
  "interpreter": {
   "hash": "e7eb97b28c3dfeecb20079ce6981f86c321ad8b50ec45dad4ffc24f99f393f81"
  }
 },
 "nbformat": 4,
 "nbformat_minor": 2
}