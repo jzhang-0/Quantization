{
 "cells": [
  {
   "cell_type": "markdown",
   "source": [
    "# PQ Recall"
   ],
   "metadata": {}
  },
  {
   "cell_type": "markdown",
   "source": [
    "## product quantization"
   ],
   "metadata": {}
  },
  {
   "cell_type": "code",
   "execution_count": null,
   "source": [
    "import nanopq\n",
    "import numpy as np\n",
    "\n",
    "n1,n2, D = 10000, 2000, 128\n",
    "np.random.seed(15)\n",
    "X = np.random.randn(n1, D).astype(np.float32)  \n",
    "queries = np.random.randn(n2,D).astype(np.float32)  \n",
    "\n",
    "# Instantiate with M=8 sub-spaces,Ks=256 codewords in each sub-space\n",
    "M,Ks=8,256\n",
    "pq = nanopq.PQ(M=M,Ks=Ks)\n",
    "\n",
    "# Train codewords\n",
    "pq.fit(X)\n",
    "\n",
    "# Encode to PQ-codes\n",
    "X_code = pq.encode(X)  # (10000, 8) "
   ],
   "outputs": [],
   "metadata": {}
  },
  {
   "cell_type": "markdown",
   "source": [
    "### compute recall"
   ],
   "metadata": {}
  },
  {
   "cell_type": "code",
   "execution_count": 2,
   "source": [
    "from evaluationRecall import Recall_PQ\n",
    "\n",
    "# M (int): The number of sub-space\n",
    "# Ks (int): The number of codewords for each subspace\n",
    "#     (typically 256, so that each sub-vector is quantized\n",
    "#     into 256 bits = 1 byte = uint8)\n",
    "# D (int): The dim of each vector\n",
    "# pq_codebook (np.ndarray): shape=(M, Ks, Ds) with dtype=np.float32.\n",
    "#     codebook[m][ks] means ks-th codeword (Ds-dim) for m-th subspace\n",
    "# pq_codes (np.ndarray): PQ codes with shape=(n, M) and dtype=np.int\n",
    "# metric (str): dot_product or l2_distance   \n",
    "\n",
    "rpq = Recall_PQ(M=M, Ks=Ks, D=D, pq_codebook = pq.codewords, pq_codes = X_code, metric=\"l2_distance\")\n",
    "\n",
    "# This will get the true nearest neighbor of the queries by  brute force search.\n",
    "ground_truth = rpq.brute_force_search(X, queries, metric = \"l2_distance\") "
   ],
   "outputs": [],
   "metadata": {}
  },
  {
   "cell_type": "code",
   "execution_count": 3,
   "source": [
    "# This will get topk neighbors(rpq.neighbors_matrix) of queries and compute the recall\n",
    "rpq.pq_recall(queries=queries, topk=100, ground_truth=ground_truth)"
   ],
   "outputs": [
    {
     "output_type": "stream",
     "name": "stdout",
     "text": [
      "recall 1@100 = 0.528\n"
     ]
    }
   ],
   "metadata": {}
  },
  {
   "cell_type": "markdown",
   "source": [
    "# AQ Recall"
   ],
   "metadata": {}
  },
  {
   "cell_type": "markdown",
   "source": [
    "The following is not additive quantization, only the codebooks and codes have the same structure as additive quantization"
   ],
   "metadata": {}
  },
  {
   "cell_type": "code",
   "execution_count": 7,
   "source": [
    "import numpy as np\n",
    "from scipy.cluster.vq import kmeans2\n",
    "\n",
    "n, nq, D = 10000, 2000, 128\n",
    "np.random.seed(15)\n",
    "X = np.random.randn(n, D).astype(np.float32)  \n",
    "queries = np.random.randn(nq,D).astype(np.float32)\n",
    "M,K = 8,256\n",
    "\n",
    "centroid, code = kmeans2(X, K, minit='points')\n",
    "centroid.shape  # shape = (256,128)\n",
    "\n",
    "codebooks = centroid\n",
    "codes = code \n",
    "RX = X\n",
    "for i in range(1,M):\n",
    "    RX = RX - centroid[code]\n",
    "\n",
    "    centroid , code = kmeans2(RX, K)\n",
    "\n",
    "    codebooks = np.r_[codebooks,centroid]\n",
    "    codes = np.c_[codes,code]\n",
    "print(codebooks.shape)\n",
    "print(codes.shape)"
   ],
   "outputs": [
    {
     "output_type": "stream",
     "name": "stdout",
     "text": [
      "(2048, 128)\n",
      "(10000, 8)\n"
     ]
    }
   ],
   "metadata": {}
  },
  {
   "cell_type": "markdown",
   "source": [
    "## compute recall"
   ],
   "metadata": {}
  },
  {
   "cell_type": "code",
   "execution_count": 8,
   "source": [
    "from evaluationRecall import Recall_AQ\n",
    "\n",
    "# M (int): The number of codebooks  \n",
    "# K (int): The number of codewords for each codebook  \n",
    "# D (int): The dim of each vector  \n",
    "# aq_codebooks (np.ndarray): shape=(M*K, D) with dtype=np.float32.  \n",
    "#     aq_codebooks[0:K,:] represents the K codewords in the first codebook  \n",
    "#     aq_codebooks[(m-1)*K:mK,:] represents the K codewords in the m-th codebook  \n",
    "# aq_codes (np.ndarray): AQ codes with shape=(n, M) and dtype=np.int, where n is the number of encoded datapoints.  \n",
    "    # aq_codes[i,j] is in {0,1,...,K-1} for all i,j\n",
    "# metric (str): dot_product or l2_distance \n",
    "\n",
    "raq = Recall_AQ(M = M, K = K, D = D, aq_codebooks = codebooks, aq_codes = codes, metric=\"l2_distance\")\n",
    "\n",
    "# This will get the true nearest neighbor of the queries by  brute force search.\n",
    "ground_truth = raq.brute_force_search(X,queries,metric=\"l2_distance\")"
   ],
   "outputs": [],
   "metadata": {}
  },
  {
   "cell_type": "code",
   "execution_count": 9,
   "source": [
    "# This will get topk neighbors(raq.neighbors_matrix) of queries and compute the recall\n",
    "raq.aq_recall(queries=queries, topk=100, ground_truth=ground_truth)"
   ],
   "outputs": [
    {
     "output_type": "stream",
     "name": "stdout",
     "text": [
      "recall 1@100 = 0.6285\n"
     ]
    }
   ],
   "metadata": {}
  }
 ],
 "metadata": {
  "orig_nbformat": 4,
  "language_info": {
   "name": "python",
   "version": "3.8.5",
   "mimetype": "text/x-python",
   "codemirror_mode": {
    "name": "ipython",
    "version": 3
   },
   "pygments_lexer": "ipython3",
   "nbconvert_exporter": "python",
   "file_extension": ".py"
  },
  "kernelspec": {
   "name": "python3",
   "display_name": "Python 3.8.5 64-bit ('base': conda)"
  },
  "interpreter": {
   "hash": "e7eb97b28c3dfeecb20079ce6981f86c321ad8b50ec45dad4ffc24f99f393f81"
  }
 },
 "nbformat": 4,
 "nbformat_minor": 2
}