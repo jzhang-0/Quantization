{
 "cells": [
  {
   "cell_type": "markdown",
   "source": [
    "## product quantization"
   ],
   "metadata": {}
  },
  {
   "cell_type": "code",
   "execution_count": null,
   "source": [
    "import nanopq\r\n",
    "import numpy as np\r\n",
    "\r\n",
    "n1,n2, D = 10000, 2000, 128\r\n",
    "np.random.seed(15)\r\n",
    "X = np.random.randn(n1, D).astype(np.float32)  \r\n",
    "queries = np.random.randn(n2,D).astype(np.float32)  \r\n",
    "\r\n",
    "# Instantiate with M=8 sub-spaces,Ks=256 codewords in each sub-space\r\n",
    "M,Ks=8,256\r\n",
    "pq = nanopq.PQ(M=M,Ks=Ks)\r\n",
    "\r\n",
    "# Train codewords\r\n",
    "pq.fit(X)\r\n",
    "\r\n",
    "# Encode to PQ-codes\r\n",
    "X_code = pq.encode(X)  # (10000, 8) "
   ],
   "outputs": [],
   "metadata": {}
  },
  {
   "cell_type": "markdown",
   "source": [
    "### compute recall"
   ],
   "metadata": {}
  },
  {
   "cell_type": "code",
   "execution_count": 2,
   "source": [
    "from evaluationRecall import Recall_PQ\r\n",
    "rpq = Recall_PQ(M=M, Ks=Ks, D=D, pq_codebook = pq.codewords, pq_codes = X_code, metric=\"l2_distance\")\r\n",
    "\r\n",
    "ground_truth = rpq.brute_force_search(X, queries, metric = \"l2_distance\") "
   ],
   "outputs": [],
   "metadata": {}
  },
  {
   "cell_type": "code",
   "execution_count": 3,
   "source": [
    "rpq.pq_recall(queries, 100, ground_truth)"
   ],
   "outputs": [
    {
     "output_type": "stream",
     "name": "stdout",
     "text": [
      "recall 1@100 = 0.528\n"
     ]
    }
   ],
   "metadata": {}
  }
 ],
 "metadata": {
  "orig_nbformat": 4,
  "language_info": {
   "name": "python",
   "version": "3.8.5",
   "mimetype": "text/x-python",
   "codemirror_mode": {
    "name": "ipython",
    "version": 3
   },
   "pygments_lexer": "ipython3",
   "nbconvert_exporter": "python",
   "file_extension": ".py"
  },
  "kernelspec": {
   "name": "python3",
   "display_name": "Python 3.8.5 64-bit ('base': conda)"
  },
  "interpreter": {
   "hash": "e7eb97b28c3dfeecb20079ce6981f86c321ad8b50ec45dad4ffc24f99f393f81"
  }
 },
 "nbformat": 4,
 "nbformat_minor": 2
}