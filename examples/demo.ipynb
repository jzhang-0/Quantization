{
 "cells": [
  {
   "cell_type": "markdown",
   "metadata": {},
   "source": [
    "# PQ Recall"
   ]
  },
  {
   "cell_type": "code",
   "execution_count": null,
   "metadata": {},
   "outputs": [],
   "source": [
    "import nanopq\n",
    "import numpy as np\n",
    "%cd ..\n",
    "%cd src\n",
    "%load_ext autoreload\n",
    "%autoreload 2\n",
    "\n",
    "import warnings\n",
    "warnings.filterwarnings('ignore')"
   ]
  },
  {
   "cell_type": "markdown",
   "metadata": {},
   "source": [
    "## product quantization"
   ]
  },
  {
   "cell_type": "code",
   "execution_count": 2,
   "metadata": {},
   "outputs": [
    {
     "name": "stdout",
     "output_type": "stream",
     "text": [
      "M: 8, Ks: 256, code_dtype: <class 'numpy.uint8'>\n",
      "iter: 20, seed: 123\n",
      "Training the subspace: 0 / 8\n",
      "Training the subspace: 1 / 8\n",
      "Training the subspace: 2 / 8\n",
      "Training the subspace: 3 / 8\n",
      "Training the subspace: 4 / 8\n",
      "Training the subspace: 5 / 8\n",
      "Training the subspace: 6 / 8\n",
      "Training the subspace: 7 / 8\n",
      "Encoding the subspace: 0 / 8\n",
      "Encoding the subspace: 1 / 8\n",
      "Encoding the subspace: 2 / 8\n",
      "Encoding the subspace: 3 / 8\n",
      "Encoding the subspace: 4 / 8\n",
      "Encoding the subspace: 5 / 8\n",
      "Encoding the subspace: 6 / 8\n",
      "Encoding the subspace: 7 / 8\n"
     ]
    }
   ],
   "source": [
    "\n",
    "n1,n2, D = 10000, 2000, 128\n",
    "np.random.seed(15)\n",
    "X = np.random.randn(n1, D).astype(np.float32)  \n",
    "queries = np.random.randn(n2,D).astype(np.float32)  \n",
    "\n",
    "# Instantiate with M=8 sub-spaces,Ks=256 codewords in each sub-space\n",
    "M,Ks=8,256\n",
    "pq = nanopq.PQ(M=M,Ks=Ks)\n",
    "\n",
    "# Train codewords\n",
    "pq.fit(X)\n",
    "\n",
    "# Encode to PQ-codes\n",
    "X_code = pq.encode(X)  # (10000, 8) "
   ]
  },
  {
   "cell_type": "markdown",
   "metadata": {},
   "source": [
    "### compute recall"
   ]
  },
  {
   "cell_type": "code",
   "execution_count": 3,
   "metadata": {},
   "outputs": [],
   "source": [
    "from evaluationRecall import SearchNeighbors_PQ, recall_atN\n",
    "\n",
    "# M (int): The number of sub-space\n",
    "# Ks (int): The number of codewords for each subspace\n",
    "#     (typically 256, so that each sub-vector is quantized\n",
    "#     into 256 bits = 1 byte = uint8)\n",
    "# D (int): The dim of each vector\n",
    "# pq_codebook (np.ndarray): shape=(M, Ks, Ds) with dtype=np.float32.\n",
    "#     codebook[m][ks] means ks-th codeword (Ds-dim) for m-th subspace\n",
    "# pq_codes (np.ndarray): PQ codes with shape=(n, M) and dtype=np.int\n",
    "# metric (str): dot_product or l2_distance   \n",
    "\n",
    "rpq = SearchNeighbors_PQ(M=M, Ks=Ks, D=D, pq_codebook = pq.codewords, pq_codes = X_code, metric=\"l2_distance\")\n",
    "\n",
    "# This will get the true nearest neighbor of the queries by  brute force search.\n",
    "ground_truth = rpq.brute_force_search(X, queries, metric = \"l2_distance\") "
   ]
  },
  {
   "cell_type": "code",
   "execution_count": 4,
   "metadata": {},
   "outputs": [
    {
     "name": "stdout",
     "output_type": "stream",
     "text": [
      "neighbors took 1.7038955688476562 seconds\n",
      "recall 1@1 = 0.0365\n",
      "recall 1@2 = 0.0685\n",
      "recall 1@4 = 0.1085\n",
      "recall 1@8 = 0.168\n",
      "recall 1@10 = 0.1885\n",
      "recall 1@16 = 0.238\n",
      "recall 1@20 = 0.2645\n",
      "recall 1@32 = 0.329\n",
      "recall 1@64 = 0.4375\n",
      "recall 1@100 = 0.528\n",
      "recall 1@128 = 0.567\n",
      "recall 1@256 = 0.7105\n",
      "recall 1@512 = 0.8385\n",
      "\n",
      "\n",
      "N=[1, 2, 4, 8, 10, 16, 20, 32, 64, 100, 128, 256, 512]\n",
      "recall1@N:[0.0365, 0.0685, 0.1085, 0.168, 0.1885, 0.238, 0.2645, 0.329, 0.4375, 0.528, 0.567, 0.7105, 0.8385]\n"
     ]
    }
   ],
   "source": [
    "# This will get topk neighbors(rpq.neighbors_matrix) of queries and compute the recall\n",
    "neighbors_matrix = rpq.neighbors(queries,topk = 512)\n",
    "recall_atN(neighbors_matrix, ground_truth)"
   ]
  },
  {
   "cell_type": "markdown",
   "metadata": {},
   "source": [
    "# AQ Recall"
   ]
  },
  {
   "cell_type": "markdown",
   "metadata": {},
   "source": [
    "The following is not additive quantization, only the codebooks and codes have the same structure as additive quantization"
   ]
  },
  {
   "cell_type": "code",
   "execution_count": 7,
   "metadata": {},
   "outputs": [
    {
     "name": "stdout",
     "output_type": "stream",
     "text": [
      "(2048, 128)\n",
      "(10000, 8)\n"
     ]
    }
   ],
   "source": [
    "import numpy as np\n",
    "from scipy.cluster.vq import kmeans2\n",
    "\n",
    "n, nq, D = 10000, 2000, 128\n",
    "np.random.seed(15)\n",
    "X = np.random.randn(n, D).astype(np.float32)  \n",
    "queries = np.random.randn(nq,D).astype(np.float32)\n",
    "M,K = 8,256\n",
    "\n",
    "centroid, code = kmeans2(X, K, minit='points')\n",
    "centroid.shape  # shape = (256,128)\n",
    "\n",
    "codebooks = centroid\n",
    "codes = code \n",
    "RX = X\n",
    "for i in range(1,M):\n",
    "    RX = RX - centroid[code]\n",
    "\n",
    "    centroid , code = kmeans2(RX, K)\n",
    "\n",
    "    codebooks = np.r_[codebooks,centroid]\n",
    "    codes = np.c_[codes,code]\n",
    "print(codebooks.shape)\n",
    "print(codes.shape)"
   ]
  },
  {
   "cell_type": "markdown",
   "metadata": {},
   "source": [
    "## compute recall"
   ]
  },
  {
   "cell_type": "code",
   "execution_count": 9,
   "metadata": {},
   "outputs": [],
   "source": [
    "from evaluationRecall import SearchNeighbors_AQ, recall_atN\n",
    "\n",
    "# M (int): The number of codebooks  \n",
    "# K (int): The number of codewords for each codebook  \n",
    "# D (int): The dim of each vector  \n",
    "# aq_codebooks (np.ndarray): shape=(M*K, D) with dtype=np.float32.  \n",
    "#     aq_codebooks[0:K,:] represents the K codewords in the first codebook  \n",
    "#     aq_codebooks[(m-1)*K:mK,:] represents the K codewords in the m-th codebook  \n",
    "# aq_codes (np.ndarray): AQ codes with shape=(n, M) and dtype=np.int, where n is the number of encoded datapoints.  \n",
    "    # aq_codes[i,j] is in {0,1,...,K-1} for all i,j\n",
    "# metric (str): dot_product or l2_distance \n",
    "\n",
    "raq = SearchNeighbors_AQ(M = M, K = K, D = D, aq_codebooks = codebooks, aq_codes = codes, metric=\"l2_distance\")\n",
    "\n",
    "# This will get the true nearest neighbor of the queries by  brute force search.\n",
    "ground_truth = raq.brute_force_search(X,queries,metric=\"l2_distance\")"
   ]
  },
  {
   "cell_type": "code",
   "execution_count": 10,
   "metadata": {},
   "outputs": [
    {
     "name": "stdout",
     "output_type": "stream",
     "text": [
      "recall 1@1 = 0.059\n",
      "recall 1@2 = 0.0985\n",
      "recall 1@4 = 0.161\n",
      "recall 1@8 = 0.2345\n",
      "recall 1@10 = 0.269\n",
      "recall 1@16 = 0.335\n",
      "recall 1@20 = 0.3645\n",
      "recall 1@32 = 0.4315\n",
      "recall 1@64 = 0.5395\n",
      "recall 1@100 = 0.6285\n",
      "\n",
      "\n",
      "N=[1, 2, 4, 8, 10, 16, 20, 32, 64, 100]\n",
      "recall1@N:[0.059, 0.0985, 0.161, 0.2345, 0.269, 0.335, 0.3645, 0.4315, 0.5395, 0.6285]\n"
     ]
    }
   ],
   "source": [
    "# This will get topk neighbors(raq.neighbors_matrix) of queries and compute the recall\n",
    "neighbors_matrix = raq.neighbors(queries=queries, topk=100)\n",
    "recall_atN(neighbors_matrix,ground_truth)"
   ]
  },
  {
   "cell_type": "markdown",
   "metadata": {},
   "source": [
    "# Quantization"
   ]
  },
  {
   "cell_type": "markdown",
   "metadata": {},
   "source": [
    "## PQ"
   ]
  },
  {
   "cell_type": "code",
   "execution_count": 1,
   "metadata": {},
   "outputs": [
    {
     "name": "stdout",
     "output_type": "stream",
     "text": [
      "/amax/home/zhangjin/Quantization\n"
     ]
    }
   ],
   "source": [
    "%cd ..\n",
    "from quantization.PQ import PQ\n",
    "import numpy as np\n",
    "# from quantization.PQ import PQ"
   ]
  },
  {
   "cell_type": "code",
   "execution_count": 2,
   "metadata": {},
   "outputs": [
    {
     "name": "stdout",
     "output_type": "stream",
     "text": [
      "M: 8, Ks: 128, code_dtype: <class 'numpy.uint8'>\n",
      "iter: 20, seed: 123\n",
      "Parallel Training the 8 subspace\n",
      "Parallel encoding the 8 subspace\n"
     ]
    }
   ],
   "source": [
    "N, Nt, D = 10000, 2000, 128\n",
    "X = np.random.random((N, D)).astype(np.float32)  # 10,000 128-dim vectors to be indexed\n",
    "Xt = np.random.random((Nt, D)).astype(np.float32)  # 2,000 128-dim vectors for training\n",
    "query = np.random.random((D,)).astype(np.float32)  # a 128-dim query vector\n",
    "\n",
    "# Instantiate with M=8 sub-spaces\n",
    "pq = PQ(M=8, Ks=128)\n",
    "\n",
    "# Train codewords\n",
    "pq.fit(Xt)\n",
    "\n",
    "# Encode to PQ-codes\n",
    "X_code = pq.encode(X)  # (10000, 8) with dtype=np.uint8"
   ]
  },
  {
   "cell_type": "markdown",
   "metadata": {},
   "source": [
    "## opq"
   ]
  },
  {
   "cell_type": "code",
   "execution_count": 3,
   "metadata": {},
   "outputs": [
    {
     "name": "stdout",
     "output_type": "stream",
     "text": [
      "M: 8, Ks: 128, code_dtype: <class 'numpy.uint8'>\n",
      "OPQ rotation training: 0 / 10\n",
      "M: 8, Ks: 128, code_dtype: <class 'numpy.uint8'>\n",
      "iter: 1, seed: 123\n",
      "Training the subspace: 1 / 8\n",
      "Training the subspace: 2 / 8\n",
      "Training the subspace: 3 / 8\n",
      "Training the subspace: 4 / 8\n",
      "Training the subspace: 5 / 8\n",
      "Training the subspace: 6 / 8\n",
      "Training the subspace: 7 / 8\n",
      "Training the subspace: 8 / 8\n",
      "Encoding the subspace: 1 / 8\n",
      "Encoding the subspace: 2 / 8\n",
      "Encoding the subspace: 3 / 8\n",
      "Encoding the subspace: 4 / 8\n",
      "Encoding the subspace: 5 / 8\n",
      "Encoding the subspace: 6 / 8\n",
      "Encoding the subspace: 7 / 8\n",
      "Encoding the subspace: 8 / 8\n",
      "==== Reconstruction error: 108.827 ====\n",
      "OPQ rotation training: 1 / 10\n",
      "M: 8, Ks: 128, code_dtype: <class 'numpy.uint8'>\n",
      "iter: 1, seed: 123\n",
      "Training the subspace: 1 / 8\n",
      "Training the subspace: 2 / 8\n",
      "Training the subspace: 3 / 8\n",
      "Training the subspace: 4 / 8\n",
      "Training the subspace: 5 / 8\n",
      "Training the subspace: 6 / 8\n",
      "Training the subspace: 7 / 8\n",
      "Training the subspace: 8 / 8\n",
      "Encoding the subspace: 1 / 8\n",
      "Encoding the subspace: 2 / 8\n",
      "Encoding the subspace: 3 / 8\n",
      "Encoding the subspace: 4 / 8\n",
      "Encoding the subspace: 5 / 8\n",
      "Encoding the subspace: 6 / 8\n",
      "Encoding the subspace: 7 / 8\n",
      "Encoding the subspace: 8 / 8\n",
      "==== Reconstruction error: 106.763756 ====\n",
      "OPQ rotation training: 2 / 10\n",
      "M: 8, Ks: 128, code_dtype: <class 'numpy.uint8'>\n",
      "iter: 1, seed: 123\n",
      "Training the subspace: 1 / 8\n",
      "Training the subspace: 2 / 8\n",
      "Training the subspace: 3 / 8\n",
      "Training the subspace: 4 / 8\n",
      "Training the subspace: 5 / 8\n",
      "Training the subspace: 6 / 8\n",
      "Training the subspace: 7 / 8\n",
      "Training the subspace: 8 / 8\n",
      "Encoding the subspace: 1 / 8\n",
      "Encoding the subspace: 2 / 8\n",
      "Encoding the subspace: 3 / 8\n",
      "Encoding the subspace: 4 / 8\n",
      "Encoding the subspace: 5 / 8\n",
      "Encoding the subspace: 6 / 8\n",
      "Encoding the subspace: 7 / 8\n",
      "Encoding the subspace: 8 / 8\n",
      "==== Reconstruction error: 105.668434 ====\n",
      "OPQ rotation training: 3 / 10\n",
      "M: 8, Ks: 128, code_dtype: <class 'numpy.uint8'>\n",
      "iter: 1, seed: 123\n",
      "Training the subspace: 1 / 8\n",
      "Training the subspace: 2 / 8\n",
      "Training the subspace: 3 / 8\n",
      "Training the subspace: 4 / 8\n",
      "Training the subspace: 5 / 8\n",
      "Training the subspace: 6 / 8\n",
      "Training the subspace: 7 / 8\n",
      "Training the subspace: 8 / 8\n",
      "Encoding the subspace: 1 / 8\n",
      "Encoding the subspace: 2 / 8\n",
      "Encoding the subspace: 3 / 8\n",
      "Encoding the subspace: 4 / 8\n",
      "Encoding the subspace: 5 / 8\n",
      "Encoding the subspace: 6 / 8\n",
      "Encoding the subspace: 7 / 8\n",
      "Encoding the subspace: 8 / 8\n",
      "==== Reconstruction error: 105.03964 ====\n",
      "OPQ rotation training: 4 / 10\n",
      "M: 8, Ks: 128, code_dtype: <class 'numpy.uint8'>\n",
      "iter: 1, seed: 123\n",
      "Training the subspace: 1 / 8\n",
      "Training the subspace: 2 / 8\n",
      "Training the subspace: 3 / 8\n",
      "Training the subspace: 4 / 8\n",
      "Training the subspace: 5 / 8\n",
      "Training the subspace: 6 / 8\n",
      "Training the subspace: 7 / 8\n",
      "Training the subspace: 8 / 8\n",
      "Encoding the subspace: 1 / 8\n",
      "Encoding the subspace: 2 / 8\n",
      "Encoding the subspace: 3 / 8\n",
      "Encoding the subspace: 4 / 8\n",
      "Encoding the subspace: 5 / 8\n",
      "Encoding the subspace: 6 / 8\n",
      "Encoding the subspace: 7 / 8\n",
      "Encoding the subspace: 8 / 8\n",
      "==== Reconstruction error: 104.640884 ====\n",
      "OPQ rotation training: 5 / 10\n",
      "M: 8, Ks: 128, code_dtype: <class 'numpy.uint8'>\n",
      "iter: 1, seed: 123\n",
      "Training the subspace: 1 / 8\n",
      "Training the subspace: 2 / 8\n",
      "Training the subspace: 3 / 8\n",
      "Training the subspace: 4 / 8\n",
      "Training the subspace: 5 / 8\n",
      "Training the subspace: 6 / 8\n",
      "Training the subspace: 7 / 8\n",
      "Training the subspace: 8 / 8\n",
      "Encoding the subspace: 1 / 8\n",
      "Encoding the subspace: 2 / 8\n",
      "Encoding the subspace: 3 / 8\n",
      "Encoding the subspace: 4 / 8\n",
      "Encoding the subspace: 5 / 8\n",
      "Encoding the subspace: 6 / 8\n",
      "Encoding the subspace: 7 / 8\n",
      "Encoding the subspace: 8 / 8\n",
      "==== Reconstruction error: 104.34874 ====\n",
      "OPQ rotation training: 6 / 10\n",
      "M: 8, Ks: 128, code_dtype: <class 'numpy.uint8'>\n",
      "iter: 1, seed: 123\n",
      "Training the subspace: 1 / 8\n",
      "Training the subspace: 2 / 8\n",
      "Training the subspace: 3 / 8\n",
      "Training the subspace: 4 / 8\n",
      "Training the subspace: 5 / 8\n",
      "Training the subspace: 6 / 8\n",
      "Training the subspace: 7 / 8\n",
      "Training the subspace: 8 / 8\n",
      "Encoding the subspace: 1 / 8\n",
      "Encoding the subspace: 2 / 8\n",
      "Encoding the subspace: 3 / 8\n",
      "Encoding the subspace: 4 / 8\n",
      "Encoding the subspace: 5 / 8\n",
      "Encoding the subspace: 6 / 8\n",
      "Encoding the subspace: 7 / 8\n",
      "Encoding the subspace: 8 / 8\n",
      "==== Reconstruction error: 104.15591 ====\n",
      "OPQ rotation training: 7 / 10\n",
      "M: 8, Ks: 128, code_dtype: <class 'numpy.uint8'>\n",
      "iter: 1, seed: 123\n",
      "Training the subspace: 1 / 8\n",
      "Training the subspace: 2 / 8\n",
      "Training the subspace: 3 / 8\n",
      "Training the subspace: 4 / 8\n",
      "Training the subspace: 5 / 8\n",
      "Training the subspace: 6 / 8\n",
      "Training the subspace: 7 / 8\n",
      "Training the subspace: 8 / 8\n",
      "Encoding the subspace: 1 / 8\n",
      "Encoding the subspace: 2 / 8\n",
      "Encoding the subspace: 3 / 8\n",
      "Encoding the subspace: 4 / 8\n",
      "Encoding the subspace: 5 / 8\n",
      "Encoding the subspace: 6 / 8\n",
      "Encoding the subspace: 7 / 8\n",
      "Encoding the subspace: 8 / 8\n",
      "==== Reconstruction error: 103.909706 ====\n",
      "OPQ rotation training: 8 / 10\n",
      "M: 8, Ks: 128, code_dtype: <class 'numpy.uint8'>\n",
      "iter: 1, seed: 123\n",
      "Training the subspace: 1 / 8\n",
      "Training the subspace: 2 / 8\n",
      "Training the subspace: 3 / 8\n",
      "Training the subspace: 4 / 8\n",
      "Training the subspace: 5 / 8\n",
      "Training the subspace: 6 / 8\n",
      "Training the subspace: 7 / 8\n",
      "Training the subspace: 8 / 8\n",
      "Encoding the subspace: 1 / 8\n",
      "Encoding the subspace: 2 / 8\n",
      "Encoding the subspace: 3 / 8\n",
      "Encoding the subspace: 4 / 8\n",
      "Encoding the subspace: 5 / 8\n",
      "Encoding the subspace: 6 / 8\n",
      "Encoding the subspace: 7 / 8\n",
      "Encoding the subspace: 8 / 8\n",
      "==== Reconstruction error: 103.71772 ====\n",
      "OPQ rotation training: 9 / 10\n",
      "M: 8, Ks: 128, code_dtype: <class 'numpy.uint8'>\n",
      "iter: 20, seed: 123\n",
      "Training the subspace: 1 / 8\n",
      "Training the subspace: 2 / 8\n",
      "Training the subspace: 3 / 8\n",
      "Training the subspace: 4 / 8\n",
      "Training the subspace: 5 / 8\n",
      "Training the subspace: 6 / 8\n",
      "Training the subspace: 7 / 8\n",
      "Training the subspace: 8 / 8\n",
      "Encoding the subspace: 1 / 8\n",
      "Encoding the subspace: 2 / 8\n",
      "Encoding the subspace: 3 / 8\n",
      "Encoding the subspace: 4 / 8\n",
      "Encoding the subspace: 5 / 8\n",
      "Encoding the subspace: 6 / 8\n",
      "Encoding the subspace: 7 / 8\n",
      "Encoding the subspace: 8 / 8\n",
      "==== Reconstruction error: 101.10316 ====\n",
      "Encoding the subspace: 1 / 8\n",
      "Encoding the subspace: 2 / 8\n",
      "Encoding the subspace: 3 / 8\n",
      "Encoding the subspace: 4 / 8\n",
      "Encoding the subspace: 5 / 8\n",
      "Encoding the subspace: 6 / 8\n",
      "Encoding the subspace: 7 / 8\n",
      "Encoding the subspace: 8 / 8\n"
     ]
    }
   ],
   "source": [
    "from quantization.OPQ import OPQ\n",
    "\n",
    "N, Nt, D = 10000, 2000, 128\n",
    "X = np.random.random((N, D)).astype(np.float32)  # 10,000 128-dim vectors to be indexed\n",
    "Xt = np.random.random((Nt, D)).astype(np.float32)  # 2,000 128-dim vectors for training\n",
    "query = np.random.random((D,)).astype(np.float32)  # a 128-dim query vector\n",
    "\n",
    "# Instantiate with M=8 sub-spaces\n",
    "pq = OPQ(M=8, Ks=128)\n",
    "\n",
    "# Train codewords\n",
    "pq.fit(Xt)\n",
    "\n",
    "# Encode to PQ-codes\n",
    "X_code = pq.encode(X)  # (10000, 8) with dtype=np.uint8"
   ]
  }
 ],
 "metadata": {
  "interpreter": {
   "hash": "25fc654bf82564ad992ec16430a511268a28637c771f42b3adb4e87730eb4a5c"
  },
  "kernelspec": {
   "display_name": "Python 3.8.5 64-bit ('base': conda)",
   "name": "python3"
  },
  "language_info": {
   "codemirror_mode": {
    "name": "ipython",
    "version": 3
   },
   "file_extension": ".py",
   "mimetype": "text/x-python",
   "name": "python",
   "nbconvert_exporter": "python",
   "pygments_lexer": "ipython3",
   "version": "3.8.5"
  },
  "orig_nbformat": 4
 },
 "nbformat": 4,
 "nbformat_minor": 2
}
